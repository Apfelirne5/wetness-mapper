{
 "cells": [
  {
   "cell_type": "code",
   "execution_count": 11,
   "outputs": [],
   "source": [
    "#import pandas as pd\n",
    "import matplotlib.pyplot as plt\n",
    "import numpy as np\n",
    "#import sys\n",
    "import os\n",
    "from pathlib import Path\n",
    "#import csv\n",
    "#import time\n",
    "import cv2\n",
    "\n",
    "from calc_naesse import *"
   ],
   "metadata": {
    "collapsed": false,
    "pycharm": {
     "name": "#%%\n"
    }
   }
  },
  {
   "cell_type": "markdown",
   "source": [
    "# Input:"
   ],
   "metadata": {
    "collapsed": false
   }
  },
  {
   "cell_type": "code",
   "execution_count": 2,
   "outputs": [],
   "source": [
    "### input imagename trocken\n",
    "img_name_trocken = \"Test_Optris_L_trocken.tiff\"\n",
    "\n",
    "### input imagename nass\n",
    "img_name_nass = \"Test_Optris_L_nass1.tiff\""
   ],
   "metadata": {
    "collapsed": false,
    "pycharm": {
     "name": "#%%\n"
    }
   }
  },
  {
   "cell_type": "code",
   "execution_count": 3,
   "outputs": [],
   "source": [
    "# get file names for saving\n",
    "img_name_trocken_save = img_name_trocken.split(\".\")[0]\n",
    "img_name_nass_save = img_name_nass.split(\".\")[0]"
   ],
   "metadata": {
    "collapsed": false,
    "pycharm": {
     "name": "#%%\n"
    }
   }
  },
  {
   "cell_type": "markdown",
   "source": [
    "### Find and read in images (searches for file in 1 directory above this file)"
   ],
   "metadata": {
    "collapsed": false
   }
  },
  {
   "cell_type": "code",
   "execution_count": 4,
   "outputs": [
    {
     "name": "stdout",
     "output_type": "stream",
     "text": [
      "Found file: C:\\Users\\Thanush\\Desktop\\HiWi_Job\\Daten\\05_Waermebilder\\Test_Optris_L_trocken.tiff\n"
     ]
    }
   ],
   "source": [
    "image, image_gray = find_file(img_name_trocken)"
   ],
   "metadata": {
    "collapsed": false,
    "pycharm": {
     "name": "#%%\n"
    }
   }
  },
  {
   "cell_type": "code",
   "execution_count": 61,
   "outputs": [
    {
     "name": "stdout",
     "output_type": "stream",
     "text": [
      "Found file: C:\\Users\\Thanush\\Desktop\\HiWi_Job\\Daten\\05_Waermebilder\\Test_Optris_L_nass1.tiff\n"
     ]
    }
   ],
   "source": [
    "image_n, image_gray_n = find_file(img_name_nass)"
   ],
   "metadata": {
    "collapsed": false,
    "pycharm": {
     "name": "#%%\n"
    }
   }
  },
  {
   "cell_type": "markdown",
   "source": [
    "### Use grabcut function as image segmentation method"
   ],
   "metadata": {
    "collapsed": false
   }
  },
  {
   "cell_type": "code",
   "execution_count": 62,
   "outputs": [],
   "source": [
    "image_trocken = grab_cut(image, radius_add=10)\n",
    "image_nass = grab_cut(image_n, radius_add=10)"
   ],
   "metadata": {
    "collapsed": false,
    "pycharm": {
     "name": "#%%\n"
    }
   }
  },
  {
   "cell_type": "markdown",
   "source": [
    "### Moves both images to the center and equalises size of the cut component"
   ],
   "metadata": {
    "collapsed": false
   }
  },
  {
   "cell_type": "code",
   "execution_count": 63,
   "outputs": [
    {
     "name": "stdout",
     "output_type": "stream",
     "text": [
      "circles is none\n"
     ]
    },
    {
     "ename": "UnboundLocalError",
     "evalue": "local variable 'x' referenced before assignment",
     "output_type": "error",
     "traceback": [
      "\u001B[1;31m---------------------------------------------------------------------------\u001B[0m",
      "\u001B[1;31mUnboundLocalError\u001B[0m                         Traceback (most recent call last)",
      "Cell \u001B[1;32mIn[63], line 1\u001B[0m\n\u001B[1;32m----> 1\u001B[0m image_trocken_center \u001B[38;5;241m=\u001B[39m \u001B[43mmove_to_center\u001B[49m\u001B[43m(\u001B[49m\u001B[43mimage_trocken\u001B[49m\u001B[43m,\u001B[49m\u001B[43m \u001B[49m\u001B[43mextra\u001B[49m\u001B[38;5;241;43m=\u001B[39;49m\u001B[38;5;241;43m2\u001B[39;49m\u001B[43m)\u001B[49m\n\u001B[0;32m      2\u001B[0m image_nass_center \u001B[38;5;241m=\u001B[39m move_to_center(image_nass, extra\u001B[38;5;241m=\u001B[39m\u001B[38;5;241m2\u001B[39m)\n",
      "File \u001B[1;32m~\\Desktop\\HiWi_Job\\Daten\\04_Skripte\\calc_naesse.py:196\u001B[0m, in \u001B[0;36mmove_to_center\u001B[1;34m(image, extra, show_img, save_img)\u001B[0m\n\u001B[0;32m    194\u001B[0m \u001B[38;5;66;03m# Cut out the circle\u001B[39;00m\n\u001B[0;32m    195\u001B[0m mask \u001B[38;5;241m=\u001B[39m np\u001B[38;5;241m.\u001B[39mzeros((height, width), np\u001B[38;5;241m.\u001B[39muint8)\n\u001B[1;32m--> 196\u001B[0m cv2\u001B[38;5;241m.\u001B[39mcircle(mask, (\u001B[43mx\u001B[49m, y), r, \u001B[38;5;241m255\u001B[39m, \u001B[38;5;241m-\u001B[39m\u001B[38;5;241m1\u001B[39m)\n\u001B[0;32m    197\u001B[0m circle_img \u001B[38;5;241m=\u001B[39m cv2\u001B[38;5;241m.\u001B[39mbitwise_and(image, image, mask\u001B[38;5;241m=\u001B[39mmask)\n\u001B[0;32m    199\u001B[0m \u001B[38;5;66;03m# Calculate the position to move the circle to\u001B[39;00m\n",
      "\u001B[1;31mUnboundLocalError\u001B[0m: local variable 'x' referenced before assignment"
     ]
    }
   ],
   "source": [
    "image_trocken_center = move_to_center(image_trocken, extra=2)\n",
    "image_nass_center = move_to_center(image_nass, extra=2)"
   ],
   "metadata": {
    "collapsed": false,
    "pycharm": {
     "name": "#%%\n"
    }
   }
  },
  {
   "cell_type": "code",
   "execution_count": 356,
   "outputs": [],
   "source": [
    "# save option\n",
    "\n",
    "#cv2.imwrite(f'..\\\\05_Waermebilder\\\\test\\\\{img_name_trocken_save}_trocken_center.tiff', image_trocken_center)\n",
    "#cv2.imwrite(f'..\\\\05_Waermebilder\\\\test\\\\{img_name_trocken_save}_nass_center.tiff', image_nass_center)"
   ],
   "metadata": {
    "collapsed": false,
    "pycharm": {
     "name": "#%%\n"
    }
   }
  },
  {
   "cell_type": "markdown",
   "source": [
    "### Compare both images to find the best matching angle and subtracts them from eachother"
   ],
   "metadata": {
    "collapsed": false
   }
  },
  {
   "cell_type": "code",
   "execution_count": 357,
   "outputs": [],
   "source": [
    "difference = filter_trocken_nass(image_trocken_center, image_nass_center, show_img=True)"
   ],
   "metadata": {
    "collapsed": false,
    "pycharm": {
     "name": "#%%\n"
    }
   }
  },
  {
   "cell_type": "code",
   "execution_count": 358,
   "outputs": [],
   "source": [
    "# save option\n",
    "\n",
    "#cv2.imwrite(f'..\\\\05_Waermebilder\\\\test\\\\{img_name_trocken_save}_difference.tiff', difference)"
   ],
   "metadata": {
    "collapsed": false,
    "pycharm": {
     "name": "#%%\n"
    }
   }
  },
  {
   "cell_type": "markdown",
   "source": [
    "### Mask to filter out colors in the specified range"
   ],
   "metadata": {
    "collapsed": false
   }
  },
  {
   "cell_type": "code",
   "execution_count": 359,
   "outputs": [],
   "source": [
    "masked_img = mask_bgr_range(difference, lower=[0, 140, 251], higher=[5, 200, 255], show_img=True)"
   ],
   "metadata": {
    "collapsed": false,
    "pycharm": {
     "name": "#%%\n"
    }
   }
  },
  {
   "cell_type": "code",
   "execution_count": 360,
   "outputs": [],
   "source": [
    "# optional: remove noise\n",
    "\n",
    "# masked_img = morph_opening(masked_img, kernelsize=3)  #odd kernelsize\n",
    "# cv2.imshow(\"masked_img\", masked_img)\n",
    "# cv2.waitKey(0)\n",
    "# cv2.destroyAllWindows()"
   ],
   "metadata": {
    "collapsed": false,
    "pycharm": {
     "name": "#%%\n"
    }
   }
  },
  {
   "cell_type": "code",
   "execution_count": 361,
   "outputs": [],
   "source": [
    "# save option\n",
    "#cv2.imwrite(f'..\\\\05_Waermebilder\\\\test\\\\{img_name_trocken_save}_masked_bgr.tiff', masked_img)"
   ],
   "metadata": {
    "collapsed": false,
    "pycharm": {
     "name": "#%%\n"
    }
   }
  },
  {
   "cell_type": "markdown",
   "source": [
    "### Visualization"
   ],
   "metadata": {
    "collapsed": false
   }
  },
  {
   "cell_type": "code",
   "execution_count": 362,
   "outputs": [],
   "source": [
    "nassfilter = visualize(image_nass_center, masked_img)"
   ],
   "metadata": {
    "collapsed": false,
    "pycharm": {
     "name": "#%%\n"
    }
   }
  },
  {
   "cell_type": "code",
   "execution_count": 363,
   "outputs": [],
   "source": [
    "# save option\n",
    "#cv2.imwrite(f'{img_name_nass_save}_vis.tiff', nass_filter)"
   ],
   "metadata": {
    "collapsed": false,
    "pycharm": {
     "name": "#%%\n"
    }
   }
  },
  {
   "cell_type": "markdown",
   "source": [
    "## Calculate Nässe"
   ],
   "metadata": {
    "collapsed": false
   }
  },
  {
   "cell_type": "code",
   "execution_count": 364,
   "outputs": [
    {
     "name": "stdout",
     "output_type": "stream",
     "text": [
      "2.61% der Bauteiloberfläche sind mit Wasser bedeckt.\n",
      "Die Gesamte Anzahl von Pixeln beträgt           27582.\n",
      "Die Gesamte Anzahl von nassen Pixeln beträgt    720.\n"
     ]
    }
   ],
   "source": [
    "# Convert the image to grayscale\n",
    "gray = cv2.cvtColor(difference, cv2.COLOR_BGR2GRAY)\n",
    "\n",
    "# Apply thresholding to the image to convert it to a binary image\n",
    "_, threshold = cv2.threshold(gray, 1, 255, cv2.THRESH_BINARY)\n",
    "\n",
    "# count white pixels\n",
    "count_trocken = np.count_nonzero(threshold)\n",
    "\n",
    "# count the white pixels of the \"masked_img\"-image which is the liquid\n",
    "count_nass = np.count_nonzero(masked_img.ravel())\n",
    "\n",
    "# calculate Nässe\n",
    "perctage = count_nass / count_trocken * 100\n",
    "print(f'{round(perctage, 3)}% der Bauteiloberfläche sind mit Wasser bedeckt.')\n",
    "print(f'Die Gesamte Anzahl von Pixeln beträgt           {count_trocken}.')\n",
    "print(f'Die Gesamte Anzahl von nassen Pixeln beträgt    {count_nass}.')"
   ],
   "metadata": {
    "collapsed": false,
    "pycharm": {
     "name": "#%%\n"
    }
   }
  },
  {
   "cell_type": "code",
   "execution_count": 177,
   "outputs": [],
   "source": [],
   "metadata": {
    "collapsed": false,
    "pycharm": {
     "name": "#%%\n"
    }
   }
  },
  {
   "cell_type": "code",
   "execution_count": 178,
   "outputs": [
    {
     "name": "stdout",
     "output_type": "stream",
     "text": [
      "Found file: C:\\Users\\Thanush\\Desktop\\HiWi_Job\\Daten\\05_Waermebilder\\Waermebilder_neu\\20221212_FS_getrocknet_4_b.tiff\n",
      "Found file: C:\\Users\\Thanush\\Desktop\\HiWi_Job\\Daten\\05_Waermebilder\\Waermebilder_neu\\20221214_FS_nass_30-2.tiff\n",
      "69.904% der Bauteiloberfläche sind mit Wasser bedeckt.\n",
      "Die Gesamte Anzahl von Pixeln beträgt           48684.\n",
      "Die Gesamte Anzahl von nassen Pixeln beträgt    34032.\n"
     ]
    }
   ],
   "source": [
    "#import pandas as pd\n",
    "import matplotlib.pyplot as plt\n",
    "import numpy as np\n",
    "#import sys\n",
    "import os\n",
    "from pathlib import Path\n",
    "#import csv\n",
    "#import time\n",
    "import cv2\n",
    "\n",
    "from calc_naesse import *\n",
    "\n",
    "# Setup\n",
    "show_img = False\n",
    "\n",
    "# Input:\n",
    "### input imagename trocken\n",
    "img_name_trocken = \"20221212_FS_getrocknet_4_b.tiff\"\n",
    "\n",
    "### input imagename nass\n",
    "img_name_nass = \"20221214_FS_nass_30-2.tiff\"\n",
    "# get file names for saving\n",
    "img_name_trocken_save = img_name_trocken.split(\".\")[0]\n",
    "img_name_nass_save = img_name_nass.split(\".\")[0]\n",
    "\n",
    "\n",
    "### Find and read in images (searches for file in 1 directory above this file)\n",
    "image, image_gray = find_file(img_name_trocken)\n",
    "image_n, image_gray_n = find_file(img_name_nass)\n",
    "\n",
    "\n",
    "### Use grabcut function as image segmentation method\n",
    "image_trocken = grab_cut(image, radius_add=10, show_img=show_img)\n",
    "image_nass = grab_cut(image_n, radius_add=10, show_img=show_img)\n",
    "\n",
    "\n",
    "### Moves both images to the center and equalises size of the cut component\n",
    "image_trocken_center = move_to_center(image_trocken, extra=2, show_img=show_img)\n",
    "image_nass_center = move_to_center(image_nass, extra=2, show_img=show_img)\n",
    "# save option\n",
    "\n",
    "#cv2.imwrite(f'..\\\\05_Waermebilder\\\\test\\\\{img_name_trocken_save}_trocken_center.tiff', image_trocken_center)\n",
    "#cv2.imwrite(f'..\\\\05_Waermebilder\\\\test\\\\{img_name_trocken_save}_nass_center.tiff', image_nass_center)\n",
    "\n",
    "\n",
    "### Compare both images to find the best matching angle and subtracts them from eachother\n",
    "difference = filter_trocken_nass(image_trocken_center, image_nass_center, show_img=show_img)\n",
    "# save option\n",
    "\n",
    "#cv2.imwrite(f'..\\\\05_Waermebilder\\\\test\\\\{img_name_trocken_save}_difference.tiff', difference)\n",
    "### Mask to filter out colors in the specified range\n",
    "masked_img = mask_bgr_range(difference, lower=[0, 140, 251], higher=[5, 200, 255], show_img=show_img)\n",
    "# optional: remove noise\n",
    "\n",
    "# masked_img = morph_opening(masked_img, kernelsize=3)  #odd kernelsize\n",
    "# cv2.imshow(\"masked_img\", masked_img)\n",
    "# cv2.waitKey(0)\n",
    "# cv2.destroyAllWindows()\n",
    "\n",
    "# save option\n",
    "#cv2.imwrite(f'..\\\\05_Waermebilder\\\\test\\\\{img_name_trocken_save}_masked_bgr.tiff', masked_img)\n",
    "\n",
    "\n",
    "### Visualization\n",
    "nassfilter = visualize(image_nass_center, masked_img, show_img=True)\n",
    "\n",
    "# save option\n",
    "#cv2.imwrite(f'{img_name_nass_save}_vis.tiff', nass_filter)\n",
    "\n",
    "\n",
    "## Calculate Nässe\n",
    "# Convert the image to grayscale\n",
    "gray = cv2.cvtColor(difference, cv2.COLOR_BGR2GRAY)\n",
    "\n",
    "# Apply thresholding to the image to convert it to a binary image\n",
    "_, threshold = cv2.threshold(gray, 1, 255, cv2.THRESH_BINARY)\n",
    "\n",
    "# count white pixels\n",
    "count_trocken = np.count_nonzero(threshold)\n",
    "\n",
    "# count the white pixels of the \"masked_img\"-image which is the liquid\n",
    "count_nass = np.count_nonzero(masked_img.ravel())\n",
    "\n",
    "# calculate Nässe\n",
    "perctage = count_nass / count_trocken * 100\n",
    "print(f'{round(perctage, 3)}% der Bauteiloberfläche sind mit Wasser bedeckt.')\n",
    "print(f'Die Gesamte Anzahl von Pixeln beträgt           {count_trocken}.')\n",
    "print(f'Die Gesamte Anzahl von nassen Pixeln beträgt    {count_nass}.')"
   ],
   "metadata": {
    "collapsed": false,
    "pycharm": {
     "name": "#%%\n"
    }
   }
  },
  {
   "cell_type": "code",
   "execution_count": 178,
   "outputs": [],
   "source": [],
   "metadata": {
    "collapsed": false,
    "pycharm": {
     "name": "#%%\n"
    }
   }
  },
  {
   "cell_type": "code",
   "execution_count": 178,
   "outputs": [],
   "source": [],
   "metadata": {
    "collapsed": false,
    "pycharm": {
     "name": "#%%\n"
    }
   }
  },
  {
   "cell_type": "code",
   "execution_count": null,
   "outputs": [],
   "source": [],
   "metadata": {
    "collapsed": false,
    "pycharm": {
     "name": "#%%\n"
    }
   }
  }
 ],
 "metadata": {
  "kernelspec": {
   "display_name": "Python 3",
   "language": "python",
   "name": "python3"
  },
  "language_info": {
   "codemirror_mode": {
    "name": "ipython",
    "version": 2
   },
   "file_extension": ".py",
   "mimetype": "text/x-python",
   "name": "python",
   "nbconvert_exporter": "python",
   "pygments_lexer": "ipython2",
   "version": "2.7.6"
  }
 },
 "nbformat": 4,
 "nbformat_minor": 0
}